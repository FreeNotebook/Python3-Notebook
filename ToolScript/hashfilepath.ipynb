{
 "cells": [
  {
   "cell_type": "markdown",
   "metadata": {
    "collapsed": true,
    "pycharm": {
     "name": "#%% md\n"
    }
   },
   "source": [
    "## hash 风格的文件存取路径\n",
    "\n",
    "> 作者: 老菜   来源: [老菜园子](https://github.com/laocaiyuan)\n",
    "\n",
    "如果我们要存取成千上万的文件，如果这时候采取手工分类的话那是要累死人的， 有没有一种更好的办法呢。\n",
    "\n",
    "当然有， 那就是 hash 风格的文件路径算法， 简单的说，我们直接从一个固定的文件名求出 hash， 然后通过固定位置的字符来计算目录。\n",
    "\n",
    "这种方式可以有效地把大量文件自动分散到多个目录存储。\n",
    " \n"
   ]
  },
  {
   "cell_type": "code",
   "source": [
    "import os\n",
    "from hashlib import md5\n",
    "\n",
    "filename = \"notebook.pdf\"\n",
    "hashvalue = md5(filename.encode()).hexdigest()\n",
    "filepath = os.path.join(\"/root\",\"{0}/{1}/{2}\".format(hashvalue[0:2], hashvalue[2:4], filename))\n",
    "\n",
    "print(filepath)\n",
    "\n"
   ],
   "metadata": {
    "collapsed": false,
    "pycharm": {
     "name": "#%% \n",
     "is_executing": false
    }
   },
   "execution_count": 5,
   "outputs": [
    {
     "name": "stdout",
     "text": [
      "/root\\9b/91/notebook.pdf\n"
     ],
     "output_type": "stream"
    }
   ]
  },
  {
   "cell_type": "markdown",
   "source": [
    "根据文件名， 我们就可以算出存哪里，从哪力读取\n",
    "\n"
   ],
   "metadata": {
    "collapsed": false
   }
  }
 ],
 "metadata": {
  "kernelspec": {
   "display_name": "Python 3",
   "language": "python",
   "name": "python3"
  },
  "language_info": {
   "codemirror_mode": {
    "name": "ipython",
    "version": 2
   },
   "file_extension": ".py",
   "mimetype": "text/x-python",
   "name": "python",
   "nbconvert_exporter": "python",
   "pygments_lexer": "ipython2",
   "version": "2.7.6"
  },
  "pycharm": {
   "stem_cell": {
    "cell_type": "raw",
    "source": [],
    "metadata": {
     "collapsed": false
    }
   }
  }
 },
 "nbformat": 4,
 "nbformat_minor": 0
}