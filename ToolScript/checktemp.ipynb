{
 "cells": [
  {
   "cell_type": "markdown",
   "metadata": {
    "collapsed": true,
    "pycharm": {
     "name": "#%% md\n"
    }
   },
   "source": [
    "## 检测 CPU 温度的 ngios 插件\n",
    "\n",
    "> 作者: 老菜   来源: [老菜园子](https://github.com/laocaiyuan)\n",
    "\n",
    "Nagios 每次在查询一个服务的状态时，产生一个子进程，并且它使用来自该命令的输出和退出代码来确定具体的状态。退出状态代码的含义如下所示\n",
    "\n",
    "- OK —退出代码 0—表示服务正常地工作。\n",
    "- WARNING —退出代码 1—表示服务处于警告状态。\n",
    "- CRITICAL —退出代码 2—表示服务处于危险状态。\n",
    "- UNKNOWN —退出代码 3—表示服务处于未知状态\n",
    "\n",
    "根据退出状态码来给 nagios 提供监控信息\n"
   ]
  },
  {
   "cell_type": "code",
   "execution_count": null,
   "outputs": [],
   "source": [
    "import re\n",
    "import os\n",
    "import sys\n",
    "from optparse import OptionParser\n",
    "\n",
    "tmp = '''\n",
    "coretemp-isa-0005\n",
    "Adapter: ISA adapter\n",
    "Core 2:       +40.0°C  (high = +84.0°C, crit = +94.0°C)\n",
    "coretemp-isa-0004\n",
    "Adapter: ISA adapter\n",
    "Core 2:       +46.0°C  (high = +84.0°C, crit = +94.0°C)\n",
    "coretemp-isa-0003\n",
    "Adapter: ISA adapter\n",
    "Core 1:       +43.0°C  (high = +84.0°C, crit = +94.0°C)\n",
    "coretemp-isa-0002\n",
    "Adapter: ISA adapter\n",
    "Core 1:       +49.0°C  (high = +84.0°C, crit = +94.0°C)\n",
    "coretemp-isa-0001\n",
    "Adapter: ISA adapter\n",
    "Core 0:       +43.0°C  (high = +84.0°C, crit = +94.0°C)\n",
    "coretemp-isa-0000\n",
    "Adapter: ISA adapter\n",
    "Core 0:       +47.0°C  (high = +84.0°C, crit = +94.0°C)\n",
    "'''\n",
    "\n",
    "def check_cputemp(wval,cval):\n",
    "    def get_state(tval):\n",
    "        if tval < wval:\n",
    "            return 0\n",
    "        if wval < tval < cval:\n",
    "            return 1\n",
    "        if tval > cval:\n",
    "            return 2\n",
    "\n",
    "    output_str = {\n",
    "        0 : 'check OK;',\n",
    "        1 : 'check Wanning;',\n",
    "        2 : 'check Crit;',\n",
    "        3 : 'check Unknow;'\n",
    "    }\n",
    "\n",
    "    outputs = []\n",
    "    status = 0\n",
    "\n",
    "    for line in os.popen(\"sensors\").readlines():\n",
    "    # for line in tmp.split('\\n'):\n",
    "        grp = re.search('(Core\\s\\d+):\\s+\\+(\\d+\\.*\\d+)',line)\n",
    "        if not grp:\n",
    "            continue\n",
    "        _core_no,_temp = grp.groups()\n",
    "        _status =  get_state(float(_temp))\n",
    "        if _status > status:\n",
    "            status = _status\n",
    "        _out = ','.join([_core_no,_temp,str(_status)])\n",
    "        outputs.append(_out)\n",
    "\n",
    "    if not outputs :\n",
    "        raise ValueError('no sensors data')\n",
    "\n",
    "    _outstr = ';'.join(outputs)\n",
    "    return status,output_str[status] + _outstr + '|' + _outstr\n",
    "\n",
    "\n",
    "\n",
    "if __name__ == \"__main__\":\n",
    "    usage = \"usage: %prog [options] arg\"\n",
    "    parser = OptionParser(usage)\n",
    "    parser.add_option(\"-c\", \"--warn\",dest=\"warn\", help=\"warn value\")\n",
    "    parser.add_option(\"-w\", \"--crit\", dest=\"crit\",help=\"crit value\")\n",
    "    (options, args) = parser.parse_args()\n",
    "    if not options.warn and not options.crit:\n",
    "        parser.error(\"incorrect number of arguments\")\n",
    "        sys.exit(3)\n",
    "    else:\n",
    "        try:\n",
    "            status,output =  check_cputemp(int(options.warn),int(options.crit))\n",
    "            print(output)\n",
    "            sys.exit(status)\n",
    "        except Exception as e:\n",
    "            print('Unknow check %s'%e)\n",
    "            sys.exit(3)"
   ],
   "metadata": {
    "collapsed": false,
    "pycharm": {
     "name": "#%%\n"
    }
   }
  },
  {
   "cell_type": "markdown",
   "source": [
    "保存脚本到 /usr/lib/nagios/plugins/check_temp.py\n",
    "\n",
    "在 nagios 的 command.cfg 的增加配置\n",
    "\n",
    "添加如下信息：\n",
    "\n",
    "    define command{\n",
    "        command_name check_temp\n",
    "        command_line python /usr/lib/nagios/plugins/check_temp.py -c $ARG1$  -w $ARG2$\n",
    "    }\n",
    "\n",
    "具体使用方法，请参考 nagios 的相关文档， 这里不再详述。"
   ],
   "metadata": {
    "collapsed": false
   }
  }
 ],
 "metadata": {
  "kernelspec": {
   "display_name": "Python 3",
   "language": "python",
   "name": "python3"
  },
  "language_info": {
   "codemirror_mode": {
    "name": "ipython",
    "version": 2
   },
   "file_extension": ".py",
   "mimetype": "text/x-python",
   "name": "python",
   "nbconvert_exporter": "python",
   "pygments_lexer": "ipython2",
   "version": "2.7.6"
  },
  "pycharm": {
   "stem_cell": {
    "cell_type": "raw",
    "source": [],
    "metadata": {
     "collapsed": false
    }
   }
  }
 },
 "nbformat": 4,
 "nbformat_minor": 0
}