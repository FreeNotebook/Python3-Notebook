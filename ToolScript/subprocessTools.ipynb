{
 "cells": [
  {
   "cell_type": "markdown",
   "metadata": {
    "collapsed": true,
    "pycharm": {
     "name": "#%% md\n"
    }
   },
   "source": [
    "## 一个 subprocess 命令执行工具封装\n",
    "\n",
    "> 作者: 老菜   来源: [老菜园子](https://github.com/laocaiyuan)\n",
    "\n",
    "简单执行 os.system 当然方便， 但是我们要控制完整的交互过程，打印日志， 判断是否执行成功， 获取完整的执行结果等， 那么我们就必须多做点功课了。\n",
    "\n",
    "> 打印日志我么还做了点颜色区分， 不过在 windows 无法支持"
   ]
  },
  {
   "cell_type": "code",
   "execution_count": 1,
   "outputs": [
    {
     "name": "stdout",
     "text": [
      "[INFO] - >> run command : dir\n[SUCC] - >> run command : dir success!\n"
     ],
     "output_type": "stream"
    },
    {
     "data": {
      "text/plain": "(0,\n b' \\xc7\\xfd\\xb6\\xaf\\xc6\\xf7 E \\xd6\\xd0\\xb5\\xc4\\xbe\\xed\\xca\\xc7 \\xbf\\xaa\\xb7\\xa2\\xb9\\xa4\\xd7\\xf7\\xc7\\xf8\\r\\n \\xbe\\xed\\xb5\\xc4\\xd0\\xf2\\xc1\\xd0\\xba\\xc5\\xca\\xc7 C404-E5B3\\r\\n\\r\\n E:\\\\github\\\\notebook\\\\notebooks\\\\ToolScript \\xb5\\xc4\\xc4\\xbf\\xc2\\xbc\\r\\n\\r\\n2019/10/13  10:20    <DIR>          .\\r\\n2019/10/13  10:20    <DIR>          ..\\r\\n2019/10/13  00:41             3,595 aescipher.ipynb\\r\\n2019/10/13  00:41             2,160 aescipher.ipynb.md\\r\\n2019/10/12  22:58             2,080 hashfilepath.ipynb\\r\\n2019/10/13  00:41               792 hashfilepath.ipynb.md\\r\\n2019/10/13  10:20             5,811 subprocessTools.ipynb\\r\\n2019/10/12  22:28             3,653 timefuncs.ipynb\\r\\n2019/10/13  00:41             1,484 timefuncs.ipynb.md\\r\\n               7 \\xb8\\xf6\\xce\\xc4\\xbc\\xfe         19,575 \\xd7\\xd6\\xbd\\xda\\r\\n               2 \\xb8\\xf6\\xc4\\xbf\\xc2\\xbc 90,429,157,376 \\xbf\\xc9\\xd3\\xc3\\xd7\\xd6\\xbd\\xda\\r\\n',\n b'')"
     },
     "metadata": {},
     "output_type": "execute_result",
     "execution_count": 1
    }
   ],
   "source": [
    "import sys\n",
    "import os\n",
    "import subprocess\n",
    "import time\n",
    "\n",
    "class CmdError(Exception):\n",
    "    def __init__(self, message):\n",
    "        self.message = message\n",
    "\n",
    "class CmdShell(object):\n",
    "    \n",
    "    def __init__(self,logfile=None,debug=False):\n",
    "        self.logfile = logfile\n",
    "        self.is_debug = debug\n",
    "        self.is_win32 = sys.platform in ['win32']\n",
    "    # error\n",
    "    def inred(self,s):\n",
    "        return self.is_win32 and s or \"%s[31;2m%s%s[0m\"%(chr(27),s, chr(27))\n",
    "    \n",
    "    # success    \n",
    "    def ingreen(self,s):\n",
    "        return self.is_win32 and s or \"%s[32;2m%s%s[0m\"%(chr(27),s, chr(27))\n",
    "    \n",
    "    # operate\n",
    "    def inblue(self,s):\n",
    "        return self.is_win32 and s or \"%s[34;2m%s%s[0m\"%(chr(27),s, chr(27))\n",
    "\n",
    "    # info\n",
    "    def incblue(self,s):\n",
    "        return self.is_win32 and s or \"%s[36;2m%s%s[0m\"%(chr(27),s, chr(27))\n",
    "\n",
    "    # warning Magenta\n",
    "    def inwarn(self,s):\n",
    "        return self.is_win32 and s or \"%s[35;2m%s%s[0m\"%(chr(27),s, chr(27))\n",
    "\n",
    "    def log(self,msg,_font=None,logfile=None):\n",
    "        print(_font(msg)) \n",
    "        if self.logfile:\n",
    "            with open(self.logfile,'ab') as fs:\n",
    "                fs.write(msg)\n",
    "                fs.write('\\n')\n",
    "                \n",
    "    def info(self,msg):\n",
    "        self.log('[INFO] - %s'%msg,_font=self.incblue)\n",
    "        \n",
    "    def debug(self,msg):\n",
    "        self.log('[DEBUG] - %s'%msg,_font=self.inblue)\n",
    "    \n",
    "    def succ(self,msg):\n",
    "        self.log('[SUCC] - %s'%msg,_font=self.ingreen)\n",
    "    \n",
    "    def err(self,msg):\n",
    "        self.log('[ERROR] - %s'%msg,_font=self.inred)\n",
    "        \n",
    "    def warn(self,msg):\n",
    "        self.log('[WARN] - %s'%msg,_font=self.inwarn)\n",
    "        \n",
    "    def read(self,ask):\n",
    "        result = input(self.incblue('[INPUT] - %s'%ask))\n",
    "        if self.is_debug:\n",
    "            self.debug('<question - %s | answer - %s>'%(ask,result))\n",
    "        return result\n",
    "    \n",
    "    def wait(self,sec=0):\n",
    "        if not sec:return\n",
    "        sec = int(sec)\n",
    "        _range = range(1,sec+1)\n",
    "        _range.reverse()\n",
    "        for i in _range:\n",
    "            self.debug(str(i))\n",
    "            time.sleep(1.0)\n",
    "    \n",
    "    def run(self,command, raise_on_fail=False, shell=True, env=None,wait=0):\n",
    "        self.info(\">> run command : %s\"%command)\n",
    "        _result = dict(code=0)\n",
    "        run_env = os.environ.copy()\n",
    "        if env:run_env.update(env)\n",
    "        if wait > 0:\n",
    "            subprocess.Popen(command, shell=True)\n",
    "            self.wait(wait)\n",
    "        else:    \n",
    "            proc = subprocess.Popen(command,shell=shell,\n",
    "                                    stdout=subprocess.PIPE,stderr=subprocess.PIPE,\n",
    "                                    env=run_env)\n",
    "            stdout, stderr = proc.communicate('through stdin to stdout')\n",
    "            result = proc.returncode, stdout, stderr\n",
    "            if proc.returncode > 0 and raise_on_fail:\n",
    "                error_string = \"# Could not run command (return code= %s)\\n\" % proc.returncode\n",
    "                error_string += \"# Error was:\\n%s\\n\" % (stderr.strip())\n",
    "                error_string += \"# Command was:\\n%s\\n\" % command\n",
    "                error_string += \"# Output was:\\n%s\\n\" % (stdout.strip())\n",
    "                if proc.returncode == 127:  # File not found, lets print path\n",
    "                    path = os.getenv(\"PATH\")\n",
    "                    error_string += \"# Check if y/our path is correct: %s\" % path\n",
    "                self.err(error_string)\n",
    "                raise CmdError(error_string)\n",
    "            else:\n",
    "                if self.is_debug:\n",
    "                    if stdout.strip():\n",
    "                        self.debug(stdout)\n",
    "                    if stderr.strip():\n",
    "                        self.err(stderr)\n",
    "                if proc.returncode == 0:\n",
    "                    self.succ(\">> run command : %s success!\"%command)\n",
    "                else:\n",
    "                    self.err(\">> run command : %s failure!\"%command)\n",
    "                return result    \n",
    "                \n",
    "shell = CmdShell()\n",
    "shell.run(\"dir\")\n"
   ],
   "metadata": {
    "collapsed": false,
    "pycharm": {
     "name": "#%%\n",
     "is_executing": false
    }
   }
  }
 ],
 "metadata": {
  "kernelspec": {
   "display_name": "Python 3",
   "language": "python",
   "name": "python3"
  },
  "language_info": {
   "codemirror_mode": {
    "name": "ipython",
    "version": 2
   },
   "file_extension": ".py",
   "mimetype": "text/x-python",
   "name": "python",
   "nbconvert_exporter": "python",
   "pygments_lexer": "ipython2",
   "version": "2.7.6"
  },
  "pycharm": {
   "stem_cell": {
    "cell_type": "raw",
    "source": [],
    "metadata": {
     "collapsed": false
    }
   }
  }
 },
 "nbformat": 4,
 "nbformat_minor": 0
}