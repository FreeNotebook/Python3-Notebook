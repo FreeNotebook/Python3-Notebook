{
 "cells": [
  {
   "cell_type": "markdown",
   "metadata": {
    "collapsed": true,
    "pycharm": {
     "name": "#%% md\n"
    }
   },
   "source": [
    "## 几个时间小函数\n",
    "\n",
    "> 作者: 老菜   来源: [老菜园子](https://github.com/laocaiyuan)"
   ]
  },
  {
   "cell_type": "code",
   "source": [
    "import datetime\n",
    "\n",
    "def fmt_second(time_total):\n",
    "    def _ck(t):\n",
    "        return t < 10 and \"0%s\" % t or t\n",
    "\n",
    "    times = int(time_total)\n",
    "    h = int(times / 3600)\n",
    "    m = int(times % 3600 / 60)\n",
    "    s = int(times % 3600 % 60)\n",
    "    return \"%s:%s:%s\" % (_ck(h), _ck(m), _ck(s))\n",
    "\n",
    "# 把秒换成时分秒格式\n",
    "fmt_second(322)"
   ],
   "metadata": {
    "collapsed": false,
    "pycharm": {
     "name": "#%% \n",
     "is_executing": false
    }
   },
   "execution_count": 2,
   "outputs": [
    {
     "data": {
      "text/plain": "'00:05:22'"
     },
     "metadata": {},
     "output_type": "execute_result",
     "execution_count": 2
    }
   ]
  },
  {
   "cell_type": "code",
   "execution_count": 3,
   "outputs": [
    {
     "data": {
      "text/plain": "True"
     },
     "metadata": {},
     "output_type": "execute_result",
     "execution_count": 3
    }
   ],
   "source": [
    "def is_expire(dstr):\n",
    "    if not dstr:\n",
    "        return False\n",
    "    try:\n",
    "        expire_date = datetime.datetime.strptime(\"%s 23:59:59\" % dstr, \"%Y-%m-%d %H:%M:%S\")\n",
    "        now = datetime.datetime.now()\n",
    "        return expire_date < now\n",
    "    except:\n",
    "        import traceback\n",
    "        traceback.print_exc()\n",
    "        return False\n",
    "\n",
    "# 一个过期判断函数\n",
    "is_expire(\"2018-10-10\")"
   ],
   "metadata": {
    "collapsed": false,
    "pycharm": {
     "name": "#%%\n",
     "is_executing": false
    }
   }
  },
  {
   "cell_type": "code",
   "execution_count": 5,
   "outputs": [
    {
     "data": {
      "text/plain": "'9天23小时10分钟0秒'"
     },
     "metadata": {},
     "output_type": "execute_result",
     "execution_count": 5
    }
   ],
   "source": [
    "def format_time(times):\n",
    "    if times <= 60:\n",
    "        return u\"%s秒\" % times\n",
    "\n",
    "    d = int(times / (3600 * 24))\n",
    "    h = int(times % (3600 * 24) / 3600)\n",
    "    m = int(times % (3600 * 24) % 3600 / 60)\n",
    "    s = int(times % (3600 * 24) % 3600 % 60)\n",
    "\n",
    "    if int(d) > 0:\n",
    "        return u\"%s天%s小时%s分钟%s秒\" % (int(d), int(h), int(m), int(s))\n",
    "    elif int(d) == 0 and int(h) > 0:\n",
    "        return u\"%s小时%s分钟%s秒\" % (int(h), int(m), int(s))\n",
    "    elif int(d) == 0 and int(h) == 0 and int(m) > 0:\n",
    "        return u\"%s分钟%s秒\" % (int(m), int(s))\n",
    "\n",
    "# 把已使用的秒数转换为友好的显示， 比如 linux 的运行时长\n",
    "\n",
    "format_time(861000)\n"
   ],
   "metadata": {
    "collapsed": false,
    "pycharm": {
     "name": "#%%\n",
     "is_executing": false
    }
   }
  }
 ],
 "metadata": {
  "kernelspec": {
   "display_name": "Python 3",
   "language": "python",
   "name": "python3"
  },
  "language_info": {
   "codemirror_mode": {
    "name": "ipython",
    "version": 2
   },
   "file_extension": ".py",
   "mimetype": "text/x-python",
   "name": "python",
   "nbconvert_exporter": "python",
   "pygments_lexer": "ipython2",
   "version": "2.7.6"
  },
  "pycharm": {
   "stem_cell": {
    "cell_type": "raw",
    "source": [],
    "metadata": {
     "collapsed": false
    }
   }
  }
 },
 "nbformat": 4,
 "nbformat_minor": 0
}