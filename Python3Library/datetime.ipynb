{
 "cells": [
  {
   "cell_type": "markdown",
   "source": [
    "## datetime 模块\n",
    "\n",
    "> 作者: 老菜   来源: [老菜园子](https://github.com/laocaiyuan)"
   ],
   "metadata": {
    "collapsed": false
   }
  },
  {
   "cell_type": "code",
   "execution_count": 13,
   "metadata": {
    "collapsed": true,
    "pycharm": {
     "is_executing": false
    }
   },
   "outputs": [
    {
     "data": {
      "text/plain": "'2019-10-12 22:16:08'"
     },
     "metadata": {},
     "output_type": "execute_result",
     "execution_count": 13
    }
   ],
   "source": [
    "import datetime\n",
    "\n",
    "# 当前时间转换为格式化日期字符串\n",
    "\n",
    "datetime.datetime.now().strftime(\"%Y-%m-%d %H:%M:%S\")"
   ]
  },
  {
   "cell_type": "code",
   "execution_count": 14,
   "outputs": [
    {
     "data": {
      "text/plain": "datetime.datetime(2019, 10, 12, 22, 9, 1)"
     },
     "metadata": {},
     "output_type": "execute_result",
     "execution_count": 14
    }
   ],
   "source": [
    "# 字符串日期时间转换为 datatime 对象\n",
    "\n",
    "datetime.datetime.strptime('2019-10-12 22:09:01', \"%Y-%m-%d %H:%M:%S\")"
   ],
   "metadata": {
    "collapsed": false,
    "pycharm": {
     "name": "#%%\n",
     "is_executing": false
    }
   }
  },
  {
   "cell_type": "code",
   "execution_count": 15,
   "outputs": [
    {
     "data": {
      "text/plain": "datetime.datetime(2019, 10, 13, 22, 16, 8, 41435)"
     },
     "metadata": {},
     "output_type": "execute_result",
     "execution_count": 15
    }
   ],
   "source": [
    "# 增加一天\n",
    "\n",
    "datetime.datetime.now() + datetime.timedelta(days=1)"
   ],
   "metadata": {
    "collapsed": false,
    "pycharm": {
     "name": "#%%\n",
     "is_executing": false
    }
   }
  },
  {
   "cell_type": "code",
   "execution_count": 16,
   "outputs": [
    {
     "data": {
      "text/plain": "datetime.datetime(2019, 10, 12, 23, 16, 8, 49455)"
     },
     "metadata": {},
     "output_type": "execute_result",
     "execution_count": 16
    }
   ],
   "source": [
    "# 增加一小时\n",
    "\n",
    "datetime.datetime.now() + datetime.timedelta(hours=1)"
   ],
   "metadata": {
    "collapsed": false,
    "pycharm": {
     "name": "#%%\n",
     "is_executing": false
    }
   }
  },
  {
   "cell_type": "code",
   "execution_count": 17,
   "outputs": [
    {
     "data": {
      "text/plain": "datetime.datetime(2019, 10, 12, 22, 17, 8, 57979)"
     },
     "metadata": {},
     "output_type": "execute_result",
     "execution_count": 17
    }
   ],
   "source": [
    "# 增加一分钟\n",
    "\n",
    "datetime.datetime.now() + datetime.timedelta(minutes=1)"
   ],
   "metadata": {
    "collapsed": false,
    "pycharm": {
     "name": "#%%\n",
     "is_executing": false
    }
   }
  },
  {
   "cell_type": "markdown",
   "source": [
    "如果要准确增加一个月怎么办，datetime.timedelta 是没有的， 这里就需要使用 calendar 模块了\n"
   ],
   "metadata": {
    "collapsed": false
   }
  },
  {
   "cell_type": "code",
   "execution_count": 20,
   "outputs": [
    {
     "data": {
      "text/plain": "datetime.datetime(2019, 11, 22, 22, 20, 57, 338181)"
     },
     "metadata": {},
     "output_type": "execute_result",
     "execution_count": 20
    }
   ],
   "source": [
    "import calendar\n",
    "def add_months(dt, months, days=0):\n",
    "    month = dt.month - 1 + months\n",
    "    year = dt.year + int(month / 12)\n",
    "    month = int( month % 12 + 1)\n",
    "    day = min(dt.day, calendar.monthrange(year, month)[1])\n",
    "    dt = dt.replace(year=year, month=month, day=day)\n",
    "    return dt + datetime.timedelta(days=days)\n",
    "\n",
    "# 增加一个月再加10天\n",
    "add_months(datetime.datetime.now(), 1, 10)\n"
   ],
   "metadata": {
    "collapsed": false,
    "pycharm": {
     "name": "#%%\n",
     "is_executing": false
    }
   }
  }
 ],
 "metadata": {
  "kernelspec": {
   "display_name": "Python 3",
   "language": "python",
   "name": "python3"
  },
  "language_info": {
   "codemirror_mode": {
    "name": "ipython",
    "version": 2
   },
   "file_extension": ".py",
   "mimetype": "text/x-python",
   "name": "python",
   "nbconvert_exporter": "python",
   "pygments_lexer": "ipython2",
   "version": "2.7.6"
  },
  "pycharm": {
   "stem_cell": {
    "cell_type": "raw",
    "source": [],
    "metadata": {
     "collapsed": false
    }
   }
  }
 },
 "nbformat": 4,
 "nbformat_minor": 0
}