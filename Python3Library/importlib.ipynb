{
 "cells": [
  {
   "cell_type": "markdown",
   "source": [
    "## importlib 动态加载模块的例子\n",
    "\n",
    "> 作者: 老菜   来源: [老菜园子](https://github.com/laocaiyuan)\n",
    "\n",
    "这是一个 importlib 的例子, importlib 可以动态的导入模块， 使得我们的应用程序实现丰富的动态特性， 减少很多手工编码，让程序效率变得更高。\n",
    "\n",
    "假设我们使用 [apscheduler](https://github.com/agronholm/apscheduler) 开发一个定时任务程序， 一般我们可以这么实现\n"
   ],
   "metadata": {
    "collapsed": false
   }
  },
  {
   "cell_type": "code",
   "execution_count": 3,
   "outputs": [
    {
     "name": "stdout",
     "text": [
      "Tick! The time is: 2019-10-12 21:52:05.004903\n",
      "Tick! The time is: 2019-10-12 21:52:07.591508",
      "\n"
     ],
     "output_type": "stream"
    }
   ],
   "source": [
    "from datetime import datetime\n",
    "import time\n",
    "import os\n",
    "\n",
    "from apscheduler.schedulers.background import BackgroundScheduler\n",
    "\n",
    "def tick():\n",
    "    print('Tick! The time is: %s' % datetime.now())\n",
    "\n",
    "if __name__ == '__main__':\n",
    "    scheduler = BackgroundScheduler()\n",
    "    scheduler.add_job(tick, 'interval', seconds=3)\n",
    "    scheduler.start()\n",
    "    try:\n",
    "        for i in range(3):\n",
    "            time.sleep(1)\n",
    "    except (KeyboardInterrupt, SystemExit):\n",
    "        scheduler.shutdown()\n"
   ],
   "metadata": {
    "collapsed": false,
    "pycharm": {
     "name": "#%%\n",
     "is_executing": false
    }
   }
  },
  {
   "cell_type": "markdown",
   "source": [
    "如果我们的 job 很少， 我们只需要简单的加入即可，可是如果有很多呢，比如我们有这样一个模块目录， 可能有很多，而且后期会继续增加\n",
    "\n",
    "    ├── jobs\n",
    "        ├── backup_job.py\n",
    "        ├── any_job.py\n",
    "        ├── xxx_job.py\n",
    "\n",
    "这个时候，我们就可以请 importlib 来帮忙了， 我们来重新改造我们的代码, 重新实现我们的任务调度器。\n",
    "\n",
    "在下面的代码中我们实现了一个动态加载 job 模块的方法，他的作用就是动态加载 jobs 目录下的所有模块\n"
   ],
   "metadata": {
    "collapsed": false
   }
  },
  {
   "cell_type": "code",
   "execution_count": 4,
   "outputs": [],
   "source": [
    "# sched.py\n",
    "import os\n",
    "import importlib\n",
    "from apscheduler.schedulers.background import BackgroundScheduler\n",
    "\n",
    "class Scheduler(object):\n",
    "\n",
    "    def __init__(self):\n",
    "        self.sched = BackgroundScheduler()\n",
    "        self.sched.start()\n",
    "        self.load_jobs(os.path.join(os.path.dirname(__file__),\"jobs\"), package_prefix=\"jobs\")\n",
    "        \n",
    "    def load_jobs(self, jobdir, package_prefix=\"jobs\"):\n",
    "        \"\"\"\n",
    "        遍历目录， 动态加入 job 模块\n",
    "        :param jobdir: job 模块目录\n",
    "        :param package_prefix: 包前缀，根据项目实际配置， 方便准确导入模块\n",
    "        :return: \n",
    "        \"\"\"\n",
    "        _excludes = ['__init__']\n",
    "        jobs = set(os.path.splitext(it)[0] for it in os.listdir(jobdir))\n",
    "        jobs = [it for it in jobs if it not in _excludes]\n",
    "        for _job in jobs:\n",
    "            try:\n",
    "                job = \"{0}.{1}\".format(package_prefix,_job)\n",
    "                jobmodule = importlib.import_module(job)\n",
    "                if hasattr(jobmodule, 'jobclass'):\n",
    "                    jobobj = jobmodule.jobclass(self)\n",
    "                    self.sched.add_job(jobobj.execute, **jobobj.cron_params)\n",
    "            except Exception:\n",
    "                print(\"skip module file %s\" % _job)\n",
    "                continue"
   ],
   "metadata": {
    "collapsed": false,
    "pycharm": {
     "name": "#%%\n",
     "is_executing": false
    }
   }
  },
  {
   "cell_type": "markdown",
   "source": [
    "下面是我们的 job 模块， 每个 job 模块我们都有一个固定的属性名， 它被指向一个具体的对象类， 并且需要一个参数，这个参数就是我们的 sched 的父对象。\n",
    "\n",
    "我们所有的 job 模块都采用这种方式编写, 在 job 模块定义中，我们顺便把 job 相关的参数也定义在一个字典中， 在导入 job 时一并传入\n"
   ],
   "metadata": {
    "collapsed": false,
    "pycharm": {
     "name": "#%% md\n"
    }
   }
  },
  {
   "cell_type": "code",
   "execution_count": 5,
   "outputs": [],
   "source": [
    "# jobs/backup_job.py\n",
    "\n",
    "class BackupDatabase():\n",
    "    \n",
    "    def __init__(self, sched):\n",
    "        self.sched = sched\n",
    "        self.cron_params = dict(id=\"backup_data\", minute=\"30\", hour=\"1\", day=\"*\")\n",
    "        \n",
    "    def execute(self):\n",
    "        print(\"start backup data\")\n",
    "\n",
    "jobclass = BackupDatabase\n"
   ],
   "metadata": {
    "collapsed": false,
    "pycharm": {
     "name": "#%%\n",
     "is_executing": false
    }
   }
  }
 ],
 "metadata": {
  "kernelspec": {
   "display_name": "Python 3",
   "language": "python",
   "name": "python3"
  },
  "language_info": {
   "codemirror_mode": {
    "name": "ipython",
    "version": 2
   },
   "file_extension": ".py",
   "mimetype": "text/x-python",
   "name": "python",
   "nbconvert_exporter": "python",
   "pygments_lexer": "ipython2",
   "version": "2.7.6"
  },
  "pycharm": {
   "stem_cell": {
    "cell_type": "raw",
    "source": [],
    "metadata": {
     "collapsed": false
    }
   }
  }
 },
 "nbformat": 4,
 "nbformat_minor": 0
}